{
 "cells": [
  {
   "cell_type": "markdown",
   "id": "deb9bbe0",
   "metadata": {},
   "source": [
    "\n"
   ]
  },
  {
   "cell_type": "markdown",
   "id": "1df31321",
   "metadata": {},
   "source": [
    "# Data Science Tools and Ecosystem"
   ]
  },
  {
   "cell_type": "code",
   "execution_count": null,
   "id": "533b16bf",
   "metadata": {},
   "outputs": [],
   "source": []
  },
  {
   "cell_type": "markdown",
   "id": "ba78d3f5",
   "metadata": {},
   "source": [
    "## In this notebook, Data Science Tools and Ecosystem are summarized.\n",
    "\n"
   ]
  },
  {
   "cell_type": "code",
   "execution_count": 7,
   "id": "4076d1ab",
   "metadata": {},
   "outputs": [
    {
     "name": "stdout",
     "output_type": "stream",
     "text": [
      "\u001b[1mObjectives :\u001b[0m\n"
     ]
    }
   ],
   "source": [
    "print('\\033[1m' + 'Objectives :' + '\\033[0m')"
   ]
  },
  {
   "cell_type": "markdown",
   "id": "fd55edef",
   "metadata": {},
   "source": [
    "1. the popular languages\n",
    "2. commonly used libraries\n",
    "3. Data Science Tools"
   ]
  },
  {
   "cell_type": "markdown",
   "id": "acb8b4b8",
   "metadata": {},
   "source": [
    "### Some of the popular languages that Data Scientists use are:\n",
    "1. Python\n",
    "2. R\n",
    "3. Java"
   ]
  },
  {
   "cell_type": "markdown",
   "id": "68fb7e1e",
   "metadata": {},
   "source": [
    "### Some of the commonly used libraries used by Data Scientists include:\n",
    "1. Pandas\n",
    "2. NumPy\n",
    "3. Matplotlib"
   ]
  },
  {
   "cell_type": "markdown",
   "id": "0a2c7f24",
   "metadata": {},
   "source": [
    "| Data Science Tools | \n",
    "| --- | \n",
    "| Vscode |\n",
    "| --- |\n",
    "| Jupyter |\n",
    "| --- |\n",
    "| Spyder |"
   ]
  },
  {
   "cell_type": "markdown",
   "id": "1c957e6a",
   "metadata": {},
   "source": [
    "### Below are a few examples of evaluating arithmetic expressions in Python\n",
    "1. addition\n",
    "2. subtraction\n",
    "3. multiplication"
   ]
  },
  {
   "cell_type": "code",
   "execution_count": 3,
   "id": "181a87a2",
   "metadata": {},
   "outputs": [
    {
     "data": {
      "text/plain": [
       "17"
      ]
     },
     "execution_count": 3,
     "metadata": {},
     "output_type": "execute_result"
    }
   ],
   "source": [
    "#This a simple arithmetic expression to mutiply then add integers (3*4)+5\n",
    "(3*4)+5"
   ]
  },
  {
   "cell_type": "code",
   "execution_count": 5,
   "id": "7ce482e0",
   "metadata": {},
   "outputs": [
    {
     "data": {
      "text/plain": [
       "3.3333333333333335"
      ]
     },
     "execution_count": 5,
     "metadata": {},
     "output_type": "execute_result"
    }
   ],
   "source": [
    "#This will convert 200 minutes to hours by diving by 60"
   ]
  },
  {
   "cell_type": "markdown",
   "id": "ce0c4e54",
   "metadata": {},
   "source": [
    "## Author\n",
    "Ismail Hassan Djilal"
   ]
  },
  {
   "cell_type": "code",
   "execution_count": null,
   "id": "1ad53b80",
   "metadata": {},
   "outputs": [],
   "source": []
  }
 ],
 "metadata": {
  "kernelspec": {
   "display_name": "Python 3 (ipykernel)",
   "language": "python",
   "name": "python3"
  },
  "language_info": {
   "codemirror_mode": {
    "name": "ipython",
    "version": 3
   },
   "file_extension": ".py",
   "mimetype": "text/x-python",
   "name": "python",
   "nbconvert_exporter": "python",
   "pygments_lexer": "ipython3",
   "version": "3.11.5"
  }
 },
 "nbformat": 4,
 "nbformat_minor": 5
}
